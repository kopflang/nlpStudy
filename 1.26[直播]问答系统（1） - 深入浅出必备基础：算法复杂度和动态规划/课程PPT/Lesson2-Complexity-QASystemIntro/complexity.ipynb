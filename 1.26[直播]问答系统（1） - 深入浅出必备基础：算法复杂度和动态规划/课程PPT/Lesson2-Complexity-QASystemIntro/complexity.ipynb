{
 "cells": [
  {
   "cell_type": "markdown",
   "metadata": {},
   "source": [
    "### 1. 简单的复杂度的回顾"
   ]
  },
  {
   "cell_type": "code",
   "execution_count": null,
   "metadata": {},
   "outputs": [],
   "source": [
    "def compute(a,b):\n",
    "    n,s = 10,0\n",
    "    for i in range(n):\n",
    "        for j in range(n):\n",
    "            s = s + a * b\n",
    "    return s\n",
    "时间复杂度：O(N^2)， 空间复杂度：O(1)"
   ]
  },
  {
   "cell_type": "markdown",
   "metadata": {},
   "source": [
    "### 2. 归并排序以及时间复杂度以及Master Thereom"
   ]
  },
  {
   "cell_type": "code",
   "execution_count": null,
   "metadata": {
    "collapsed": true
   },
   "outputs": [],
   "source": []
  },
  {
   "cell_type": "markdown",
   "metadata": {},
   "source": [
    "### 3. Fibonanci number (斐波那契数)\n",
    "序列一次为 1，1，2，3，5，8，13，21，....\n",
    "问题： 怎么求出序列中第N个数？"
   ]
  },
  {
   "cell_type": "code",
   "execution_count": null,
   "metadata": {},
   "outputs": [],
   "source": [
    "T(n) = T(n-2) + T(n-1)\n",
    "\n",
    "def fib(n):\n",
    "    # base case\n",
    "    if n < 3:\n",
    "        return 1\n",
    "    return fib(n-2)+fib(n-1)\n",
    "print (fib(50))"
   ]
  },
  {
   "cell_type": "code",
   "execution_count": null,
   "metadata": {
    "collapsed": true
   },
   "outputs": [],
   "source": [
    "# 时间复杂度？\n",
    "import numpy as np\n",
    "def fib(n):\n",
    "    tmp = np.zeros(n)\n",
    "    tmp[0] = 1\n",
    "    tmp[1] = 1\n",
    "    for i in range(2,n):\n",
    "        tmp[i] = tmp[i-2]+tmp[i-1]\n",
    "    \n",
    "    return tmp[n-1]\n",
    "\n",
    "O(N) O(2^n)\n",
    "\n",
    "def fib(n):\n",
    "    tmp = np.zeros(n)\n",
    "    tmp[0] = 1\n",
    "    tmp[1] = 1\n",
    "    for i in range(2,n):\n",
    "        tmp[i] = tmp[i-2]+tmp[i-1]\n",
    "    \n",
    "    return tmp[n-1]\n",
    "\n",
    "\n",
    "def fib(n):\n",
    "    a,b=1,1\n",
    "    c =0\n",
    "    for i in range(2,n):\n",
    "        c = a + b\n",
    "        a = b\n",
    "        b = c  \n",
    "    return c\n",
    "\n",
    "\n",
    "思考题： 怎么在O(1)的时间复杂度下计算FIB(N)？\n",
    "\n",
    "套公式\n",
    "\n",
    "思考题： 这个公式怎么得来的？ \n",
    "提示： 转换成矩阵的连乘的形式， 矩阵连乘可以简化（MATRIX DECOMPOSION）\n",
    "\n",
    "\n"
   ]
  },
  {
   "cell_type": "markdown",
   "metadata": {},
   "source": []
  },
  {
   "cell_type": "code",
   "execution_count": null,
   "metadata": {
    "collapsed": true
   },
   "outputs": [],
   "source": []
  }
 ],
 "metadata": {
  "kernelspec": {
   "display_name": "Python 3",
   "language": "python",
   "name": "python3"
  },
  "language_info": {
   "codemirror_mode": {
    "name": "ipython",
    "version": 3
   },
   "file_extension": ".py",
   "mimetype": "text/x-python",
   "name": "python",
   "nbconvert_exporter": "python",
   "pygments_lexer": "ipython3",
   "version": "3.6.3"
  }
 },
 "nbformat": 4,
 "nbformat_minor": 2
}
