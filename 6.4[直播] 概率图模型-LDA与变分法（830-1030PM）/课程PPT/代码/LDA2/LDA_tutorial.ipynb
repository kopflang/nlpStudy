{
 "cells": [
  {
   "cell_type": "markdown",
   "metadata": {},
   "source": [
    "![](attachment:image.png)"
   ]
  },
  {
   "cell_type": "markdown",
   "metadata": {},
   "source": [
    "![](attachment:image.png)"
   ]
  },
  {
   "attachments": {},
   "cell_type": "markdown",
   "metadata": {},
   "source": []
  },
  {
   "cell_type": "markdown",
   "metadata": {},
   "source": [
    "## LDA的使用, 分析yelp数据集\n",
    "\n",
    "有个常用的LDA工具：\n",
    "\n",
    "- [Gensim](https://radimrehurek.com/gensim/models/ldamodel.html)\n",
    "- [Sklearn](http://scikit-learn.org/stable/modules/generated/sklearn.decomposition.LatentDirichletAllocation.html)\n"
   ]
  },
  {
   "cell_type": "code",
   "execution_count": 33,
   "metadata": {},
   "outputs": [
    {
     "name": "stdout",
     "output_type": "stream",
     "text": [
      "0    My wife took me here on my birthday for breakf...\n",
      "1    I have no idea why some people give bad review...\n",
      "2    love the gyro plate. Rice is so good and I als...\n",
      "3    Rosie, Dakota, and I LOVE Chaparral Dog Park!!...\n",
      "4    General Manager Scott Petello is a good egg!!!...\n",
      "Name: text, dtype: object\n"
     ]
    }
   ],
   "source": [
    "from sklearn.decomposition import LatentDirichletAllocation\n",
    "from sklearn.feature_extraction.text import CountVectorizer, TfidfVectorizer\n",
    "import pandas as pd\n",
    "\n",
    "yelp = pd.read_csv('./datasets/yelp.csv', encoding='utf-8')\n",
    "print (yelp['text'].head())\n",
    "\n",
    "# 把每个文本表示成count vector. \n",
    "vectorizer = CountVectorizer(stop_words=\"english\")\n",
    "X = vectorizer.fit_transform(yelp['text'])"
   ]
  },
  {
   "cell_type": "code",
   "execution_count": 34,
   "metadata": {},
   "outputs": [
    {
     "name": "stderr",
     "output_type": "stream",
     "text": [
      "/Users/wenzheli/anaconda3/lib/python3.7/site-packages/sklearn/decomposition/online_lda.py:314: DeprecationWarning: n_topics has been renamed to n_components in version 0.19 and will be removed in 0.21\n",
      "  DeprecationWarning)\n"
     ]
    }
   ],
   "source": [
    "lda   = LatentDirichletAllocation(n_topics=2, learning_method=\"batch\", random_state=42)\n",
    "model = lda.fit(X)"
   ]
  },
  {
   "cell_type": "code",
   "execution_count": 35,
   "metadata": {},
   "outputs": [
    {
     "data": {
      "image/png": "[encoded data removed]",
      "text/plain": [
       "<Figure size 720x720 with 10 Axes>"
      ]
     },
     "metadata": {
      "needs_background": "light"
     },
     "output_type": "display_data"
    }
   ],
   "source": [
    "import matplotlib.pyplot as plt\n",
    "import seaborn as sns\n",
    "import numpy as np\n",
    "\n",
    "%matplotlib inline\n",
    "\n",
    "####\n",
    "# Per topic: (token, pseudocount)\n",
    "# pseudocount represents the number of times word j was assigned to topic i\n",
    "# \n",
    "# We can to convert these to a normalized form -- well you don't have to\n",
    "# but it's easier to understand the output in this form.  Also, this is \n",
    "# consistent with how Gensim performs.  After some consideration, we will plot these out.\n",
    "####\n",
    "\n",
    "def display_topics(model, feature_names, no_words = 10, plot = False, plot_dim=(5,2)):\n",
    "    \n",
    "    topics_tokens = []\n",
    "    \n",
    "    for topic_idx, topic in enumerate(model.components_):\n",
    "\n",
    "        topic = zip(feature_names, topic)\n",
    "        topic = sorted(topic, key=lambda pair: pair[1])\n",
    "        \n",
    "        topic_words = [(token, counts)\n",
    "                       for token, counts in topic[:-no_words - 1:-1]]\n",
    "        \n",
    "        topics_tokens.append(topic_words)\n",
    "        \n",
    "        if not plot:\n",
    "            print (\"Topic %d:\" % (topic_idx))\n",
    "            print (topic_words)\n",
    "        \n",
    "    if plot:\n",
    "        \n",
    "        plot_matrix = np.arange(10).reshape(5,2)\n",
    "    \n",
    "        fig, ax = plt.subplots(figsize=(10, 10), nrows=5, ncols=2)\n",
    "        \n",
    "        topics = [\n",
    "            {key: value for key, value in topic} \n",
    "                  for topic in topics_tokens\n",
    "        ]\n",
    "        \n",
    "        row = 0\n",
    "        \n",
    "        for topic_id, topic in enumerate(topics):\n",
    "            \n",
    "            column = (0 if topic_id % 2 == 0 else 1)\n",
    "                \n",
    "            chart = pd.DataFrame([topic]).iloc[0].sort_values(axis=0)\n",
    "            chart.plot(kind=\"barh\", title=\"Topic %d\" % topic_id, ax=ax[row, column])\n",
    "                \n",
    "            row += 1 if column == 1 else 0\n",
    "        \n",
    "        plt.tight_layout()\n",
    "            \n",
    "\n",
    "display_topics(model, vectorizer.get_feature_names(), no_words=10, plot=True)"
   ]
  },
  {
   "cell_type": "code",
   "execution_count": 18,
   "metadata": {},
   "outputs": [
    {
     "name": "stdout",
     "output_type": "stream",
     "text": [
      "Topic 0:\n",
      "[('good', 2302.6328623543204), ('food', 1712.7564008897298), ('chicken', 1377.8106126729263), ('great', 1369.724410747316), ('place', 1259.102358326213), ('like', 1170.8289088208714), ('cheese', 1090.0246938619125), ('sauce', 998.424592379383), ('really', 951.8673513178557), ('just', 874.4452310561048)]\n",
      "Topic 1:\n",
      "[('pizza', 1326.7330216938742), ('good', 316.4043853024131), ('place', 236.635740816335), ('time', 228.44088800713953), ('like', 223.70648865211587), ('just', 214.21268586798757), ('don', 212.17702585306915), ('crust', 202.39068704183634), ('really', 198.69027650233025), ('little', 191.18086417469127)]\n",
      "Topic 2:\n",
      "[('burger', 832.1152628718013), ('fries', 689.3605867715271), ('food', 343.2195855384175), ('like', 325.59575902783104), ('good', 285.69358467377253), ('place', 272.7751827702345), ('burgers', 248.60281235086552), ('lunch', 164.92598785020664), ('great', 164.5500089768819), ('order', 148.05743924768694)]\n",
      "Topic 3:\n",
      "[('food', 2361.069909887321), ('place', 1646.194177592663), ('just', 1597.3643897456527), ('good', 1485.8549170851422), ('service', 1347.2838676105323), ('time', 1136.8373336299062), ('like', 1118.3526237316876), ('order', 814.4263303441119), ('great', 798.6584465420717), ('ordered', 762.1527071103048)]\n",
      "Topic 4:\n",
      "[('like', 341.8561628554571), ('just', 314.91848374570424), ('really', 304.6255492116784), ('did', 303.0079433037773), ('time', 294.020191307256), ('going', 223.18801246026013), ('good', 175.58508574642548), ('didn', 174.4009128994588), ('know', 170.70742032987948), ('service', 161.49738874011905)]\n",
      "Topic 5:\n",
      "[('store', 644.0371073952371), ('coffee', 520.7014224187352), ('great', 376.29528975328026), ('shop', 314.4293809172802), ('selection', 295.4780390900828), ('place', 250.35283871396), ('like', 215.58293759570492), ('love', 213.22792469642175), ('staff', 211.6318335045348), ('prices', 205.32593115077648)]\n",
      "Topic 6:\n",
      "[('great', 1633.309946798247), ('place', 1505.0000673907962), ('good', 970.5773925738699), ('bar', 868.0765975593845), ('food', 731.0633865415526), ('like', 684.9969634418778), ('time', 585.6879211738665), ('night', 558.8076051117223), ('nice', 533.9424061865709), ('really', 494.15852032146233)]\n",
      "Topic 7:\n",
      "[('like', 240.2399711914627), ('time', 153.71903352010506), ('place', 147.9698666783505), ('just', 139.98538660681953), ('food', 127.65262432590293), ('great', 118.84130979316086), ('day', 96.69517662408963), ('new', 94.5327903397166), ('make', 92.74049571456595), ('think', 86.5020951054625)]\n",
      "Topic 8:\n",
      "[('just', 198.27017303246382), ('place', 196.6550025144465), ('like', 156.84390722152594), ('car', 120.3306148333816), ('time', 116.28073513472516), ('great', 101.01753701712792), ('really', 92.79239393675404), ('good', 89.76161702300108), ('course', 84.97872876843242), ('new', 84.15581136224661)]\n",
      "Topic 9:\n",
      "[('place', 1079.3769440410952), ('good', 951.0788083957152), ('food', 748.1674297698103), ('breakfast', 668.9630278879674), ('like', 563.9962774613256), ('just', 522.4681607602839), ('really', 394.38486706671137), ('time', 370.34018070200403), ('don', 354.77913001359127), ('nice', 346.20691504395023)]\n"
     ]
    }
   ],
   "source": [
    "display_topics(model, vectorizer.get_feature_names(), no_words=10)"
   ]
  },
  {
   "cell_type": "code",
   "execution_count": 19,
   "metadata": {},
   "outputs": [
    {
     "data": {
      "text/html": [
       "<div>\n",
       "<style scoped>\n",
       "    .dataframe tbody tr th:only-of-type {\n",
       "        vertical-align: middle;\n",
       "    }\n",
       "\n",
       "    .dataframe tbody tr th {\n",
       "        vertical-align: top;\n",
       "    }\n",
       "\n",
       "    .dataframe thead th {\n",
       "        text-align: right;\n",
       "    }\n",
       "</style>\n",
       "<table border=\"1\" class=\"dataframe\">\n",
       "  <thead>\n",
       "    <tr style=\"text-align: right;\">\n",
       "      <th></th>\n",
       "      <th>topic 0</th>\n",
       "      <th>topic 1</th>\n",
       "      <th>topic 2</th>\n",
       "      <th>topic 3</th>\n",
       "      <th>topic 4</th>\n",
       "      <th>topic 5</th>\n",
       "      <th>topic 6</th>\n",
       "      <th>topic 7</th>\n",
       "      <th>topic 8</th>\n",
       "      <th>topic 9</th>\n",
       "    </tr>\n",
       "  </thead>\n",
       "  <tbody>\n",
       "    <tr>\n",
       "      <th>10</th>\n",
       "      <td>0.911565</td>\n",
       "      <td>0.003572</td>\n",
       "      <td>0.003572</td>\n",
       "      <td>0.003572</td>\n",
       "      <td>0.003572</td>\n",
       "      <td>0.059860</td>\n",
       "      <td>0.003572</td>\n",
       "      <td>0.003572</td>\n",
       "      <td>0.003572</td>\n",
       "      <td>0.003572</td>\n",
       "    </tr>\n",
       "    <tr>\n",
       "      <th>18</th>\n",
       "      <td>0.918468</td>\n",
       "      <td>0.001163</td>\n",
       "      <td>0.001163</td>\n",
       "      <td>0.072228</td>\n",
       "      <td>0.001163</td>\n",
       "      <td>0.001163</td>\n",
       "      <td>0.001163</td>\n",
       "      <td>0.001163</td>\n",
       "      <td>0.001163</td>\n",
       "      <td>0.001163</td>\n",
       "    </tr>\n",
       "    <tr>\n",
       "      <th>20</th>\n",
       "      <td>0.829591</td>\n",
       "      <td>0.001961</td>\n",
       "      <td>0.154719</td>\n",
       "      <td>0.001961</td>\n",
       "      <td>0.001961</td>\n",
       "      <td>0.001961</td>\n",
       "      <td>0.001961</td>\n",
       "      <td>0.001961</td>\n",
       "      <td>0.001961</td>\n",
       "      <td>0.001961</td>\n",
       "    </tr>\n",
       "    <tr>\n",
       "      <th>42</th>\n",
       "      <td>0.924983</td>\n",
       "      <td>0.008335</td>\n",
       "      <td>0.008335</td>\n",
       "      <td>0.008336</td>\n",
       "      <td>0.008336</td>\n",
       "      <td>0.008334</td>\n",
       "      <td>0.008336</td>\n",
       "      <td>0.008334</td>\n",
       "      <td>0.008335</td>\n",
       "      <td>0.008336</td>\n",
       "    </tr>\n",
       "    <tr>\n",
       "      <th>75</th>\n",
       "      <td>0.845220</td>\n",
       "      <td>0.003704</td>\n",
       "      <td>0.003704</td>\n",
       "      <td>0.125144</td>\n",
       "      <td>0.003704</td>\n",
       "      <td>0.003705</td>\n",
       "      <td>0.003705</td>\n",
       "      <td>0.003705</td>\n",
       "      <td>0.003704</td>\n",
       "      <td>0.003705</td>\n",
       "    </tr>\n",
       "  </tbody>\n",
       "</table>\n",
       "</div>"
      ],
      "text/plain": [
       "     topic 0   topic 1   topic 2   topic 3   topic 4   topic 5   topic 6  \\\n",
       "10  0.911565  0.003572  0.003572  0.003572  0.003572  0.059860  0.003572   \n",
       "18  0.918468  0.001163  0.001163  0.072228  0.001163  0.001163  0.001163   \n",
       "20  0.829591  0.001961  0.154719  0.001961  0.001961  0.001961  0.001961   \n",
       "42  0.924983  0.008335  0.008335  0.008336  0.008336  0.008334  0.008336   \n",
       "75  0.845220  0.003704  0.003704  0.125144  0.003704  0.003705  0.003705   \n",
       "\n",
       "     topic 7   topic 8   topic 9  \n",
       "10  0.003572  0.003572  0.003572  \n",
       "18  0.001163  0.001163  0.001163  \n",
       "20  0.001961  0.001961  0.001961  \n",
       "42  0.008334  0.008335  0.008336  \n",
       "75  0.003705  0.003704  0.003705  "
      ]
     },
     "execution_count": 19,
     "metadata": {},
     "output_type": "execute_result"
    }
   ],
   "source": [
    "comp = model.transform(X)\n",
    "document_topics = pd.DataFrame(comp, columns=[\"topic %d\" % i for i in range(comp.shape[1])])\n",
    "top_topics = document_topics['topic 0'] > .8\n",
    "document_topics[top_topics].head()"
   ]
  },
  {
   "cell_type": "markdown",
   "metadata": {},
   "source": [
    "### Gibbs sampler for LDA"
   ]
  },
  {
   "cell_type": "code",
   "execution_count": 29,
   "metadata": {},
   "outputs": [],
   "source": [
    "# words\n",
    "W = np.array([0, 1, 2, 3, 4])\n",
    "\n",
    "# D := document words\n",
    "X = np.array([\n",
    "    [0, 0, 1, 2, 2],\n",
    "    [0, 0, 1, 1, 1],\n",
    "    [0, 1, 2, 2, 2],\n",
    "    [4, 4, 4, 4, 4],\n",
    "    [3, 3, 4, 4, 4],\n",
    "    [3, 4, 4, 4, 4]\n",
    "])\n",
    "\n",
    "N_D = X.shape[0]  # num of docs\n",
    "N_V = W.shape[0]  # num of words\n",
    "N_K = 2  # num of topics"
   ]
  },
  {
   "cell_type": "code",
   "execution_count": 30,
   "metadata": {},
   "outputs": [],
   "source": [
    "# Dirichlet priors\n",
    "alpha = 1\n",
    "gamma = 1\n",
    "\n",
    "# Z := word topic assignment\n",
    "Z = np.zeros(shape=[N_D, N_V])\n",
    "\n",
    "for i in range(N_D):\n",
    "    for l in range(N_V):\n",
    "        Z[i, l] = np.random.randint(N_K)  # randomly assign word's topic\n",
    "\n",
    "# Pi := document topic distribution\n",
    "theta = np.zeros([N_D, N_K])\n",
    "\n",
    "for i in range(N_D):\n",
    "    theta[i] = np.random.dirichlet(alpha*np.ones(N_K))\n",
    "\n",
    "# phi := word topic distribution\n",
    "phi = np.zeros([N_K, N_V])\n",
    "\n",
    "for k in range(N_K):\n",
    "    phi[k] = np.randomt.dirichlet(gamma*np.ones(N_V))\n",
    "\n",
    "for it in range(1000):\n",
    "    # Sample from full conditional of Z\n",
    "    # ---------------------------------\n",
    "    for i in range(N_D):\n",
    "        for v in range(N_V):\n",
    "            # Calculate params for Z\n",
    "            p_iv = np.exp(np.log(theta[i]) + np.log(phi[:, X[i, v]]))\n",
    "            p_iv /= np.sum(p_iv)\n",
    "\n",
    "            # Resample word topic assignment Z\n",
    "            Z[i, v] = np.random.multinomial(1, p_iv).argmax()\n",
    "\n",
    "    # Sample from full conditional of Pi\n",
    "    # ----------------------------------\n",
    "    for i in range(N_D):\n",
    "        m = np.zeros(N_K)\n",
    "\n",
    "        # Gather sufficient statistics\n",
    "        for k in range(N_K):\n",
    "            m[k] = np.sum(Z[i] == k)\n",
    "\n",
    "        # Resample doc topic dist.\n",
    "        theta[i, :] = np.random.dirichlet(alpha + m)\n",
    "\n",
    "    # Sample from full conditional of B\n",
    "    # ---------------------------------\n",
    "    for k in range(N_K):\n",
    "        n = np.zeros(N_V)\n",
    "\n",
    "        # Gather sufficient statistics\n",
    "        for v in range(N_V):\n",
    "            for i in range(N_D):\n",
    "                for l in range(N_V):\n",
    "                    n[v] += (X[i, l] == v) and (Z[i, l] == k)\n",
    "\n",
    "        # Resample word topic dist.\n",
    "        phi[k, :] = np.random.dirichlet(gamma + n)"
   ]
  },
  {
   "cell_type": "code",
   "execution_count": 31,
   "metadata": {},
   "outputs": [
    {
     "name": "stdout",
     "output_type": "stream",
     "text": [
      "[[0.8909328  0.1090672 ]\n",
      " [0.43150659 0.56849341]\n",
      " [0.90872547 0.09127453]\n",
      " [0.00554831 0.99445169]\n",
      " [0.55382813 0.44617187]\n",
      " [0.28755563 0.71244437]]\n"
     ]
    }
   ],
   "source": [
    "print (theta)"
   ]
  },
  {
   "cell_type": "code",
   "execution_count": null,
   "metadata": {},
   "outputs": [],
   "source": []
  },
  {
   "cell_type": "markdown",
   "metadata": {},
   "source": [
    "### Mini-homework - Collapsed Gibbs Sampler for LDA\n",
    "自己重新推导一下Collapsed Gibbs Sampler，并实现一下LDA类并利用上面给定的YELP数据集来测试一下，并跟sklearn的结果比较一下。"
   ]
  },
  {
   "cell_type": "code",
   "execution_count": 20,
   "metadata": {},
   "outputs": [],
   "source": [
    "class LDA:\n",
    "    \"\"\"Latent Dirichlet allocation using collapsed Gibbs sampling\"\"\"\n",
    "    \n",
    "    def __init__():\n",
    "        \n",
    "\n",
    "    def fit(self, X, y=None):\n",
    "        \"\"\"Fit the model with X.\"\"\"\n",
    "        \n",
    "\n",
    "    def fit_transform(self, X, y=None):\n",
    "        \n",
    "\n",
    "    def transform(self, X, max_iter=20, tol=1e-16):\n",
    "        \n",
    "       \n",
    "    def loglikelihood(self):\n",
    "        \"\"\"Calculate complete log likelihood, log p(w,z)\n",
    "        Formula used is log p(w,z) = log p(w|z) + log p(z)\n",
    "        \"\"\"\n",
    "    def perplexity(self):\n",
    "        \"\"\"Calculate the perplexity\"\"\"\n",
    "        "
   ]
  },
  {
   "cell_type": "code",
   "execution_count": null,
   "metadata": {},
   "outputs": [],
   "source": []
  }
 ],
 "metadata": {
  "kernelspec": {
   "display_name": "Python 3",
   "language": "python",
   "name": "python3"
  },
  "language_info": {
   "codemirror_mode": {
    "name": "ipython",
    "version": 3
   },
   "file_extension": ".py",
   "mimetype": "text/x-python",
   "name": "python",
   "nbconvert_exporter": "python",
   "pygments_lexer": "ipython3",
   "version": "3.7.1"
  }
 },
 "nbformat": 4,
 "nbformat_minor": 2
}
